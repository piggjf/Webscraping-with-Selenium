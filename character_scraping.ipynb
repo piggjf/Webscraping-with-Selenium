{
 "cells": [
  {
   "cell_type": "markdown",
   "metadata": {},
   "source": [
    "The following notebook is based on a walkthrough from Thu Vu's Python Web-scraping with Selenium video on YouTube.\n",
    "\n",
    "https://www.youtube.com/watch?v=RuNolAh_4bU&ab_channel=ThuVudataanalytics\n",
    "\n",
    "In the event that anyone else runs Python through WSL2 for Windows, you might encounter a couple of issues.  I'm adding this here in hopes that it can save you the time that I spent.\n",
    "\n",
    "https://www.gregbrisebois.com/posts/chromedriver-in-wsl2/ - this link brought me to the realization that I needed to launch Chrome with an XServer at least one time so that I could check the box to make Chrome the default browser.  Otherwise, everything just timed out because the pages wouldn't load.\n",
    "\n",
    "https://cloudbytes.dev/snippets/run-selenium-and-chrome-on-wsl2 - this was another link that I attempted to use for troubleshooting purposes.  It was actually the first one that I used and was necessary for walking through the installation of Chrome to my WSL2 install.  The rest wasn't really necessary, but it does show an alternative method for getting the pages.  Options are good, I suppose."
   ]
  },
  {
   "cell_type": "code",
   "execution_count": 17,
   "metadata": {},
   "outputs": [],
   "source": [
    "import pandas as pd\n",
    "import time\n",
    "from selenium import webdriver\n",
    "from webdriver_manager.chrome import ChromeDriverManager\n",
    "from selenium.webdriver.common.by import By"
   ]
  },
  {
   "cell_type": "markdown",
   "metadata": {},
   "source": [
    "### Create driver"
   ]
  },
  {
   "cell_type": "code",
   "execution_count": 15,
   "metadata": {},
   "outputs": [
    {
     "name": "stdout",
     "output_type": "stream",
     "text": [
      "\n"
     ]
    },
    {
     "name": "stderr",
     "output_type": "stream",
     "text": [
      "[WDM] - ====== WebDriver manager ======\n",
      "[WDM] - Current google-chrome version is 102.0.5005\n",
      "[WDM] - Get LATEST chromedriver version for 102.0.5005 google-chrome\n",
      "[WDM] - Driver [/home/jpigg/.wdm/drivers/chromedriver/linux64/102.0.5005.61/chromedriver] found in cache\n",
      "/tmp/ipykernel_1412/1503906442.py:1: DeprecationWarning: executable_path has been deprecated, please pass in a Service object\n",
      "  driver = webdriver.Chrome(ChromeDriverManager().install())\n"
     ]
    }
   ],
   "source": [
    "driver = webdriver.Chrome(ChromeDriverManager().install())"
   ]
  },
  {
   "cell_type": "code",
   "execution_count": 36,
   "metadata": {},
   "outputs": [],
   "source": [
    "page_url = \"https://witcher.fandom.com/wiki/Category:Characters_in_the_stories\"\n",
    "driver.get(page_url)\n",
    "# driver.find_element(By.XPATH, '//div[text()=\"ACCEPT\"]').click()"
   ]
  },
  {
   "cell_type": "markdown",
   "metadata": {},
   "source": [
    "## Find books\n"
   ]
  },
  {
   "cell_type": "code",
   "execution_count": 37,
   "metadata": {},
   "outputs": [
    {
     "data": {
      "text/plain": [
       "'https://witcher.fandom.com/wiki/Category:Baptism_of_Fire_characters'"
      ]
     },
     "execution_count": 37,
     "metadata": {},
     "output_type": "execute_result"
    }
   ],
   "source": [
    "book_categories = driver.find_elements(by=By.CLASS_NAME, value='category-page__member-link')\n",
    "book_categories[0].get_attribute('href')"
   ]
  },
  {
   "cell_type": "code",
   "execution_count": 38,
   "metadata": {},
   "outputs": [],
   "source": [
    "driver.get(book_categories[0].get_attribute('href'))\n"
   ]
  },
  {
   "cell_type": "code",
   "execution_count": 39,
   "metadata": {},
   "outputs": [
    {
     "data": {
      "text/plain": [
       "[<selenium.webdriver.remote.webelement.WebElement (session=\"1838789e9c834dd25c8bc549dd1eae44\", element=\"e3899e29-aa3a-4f31-8db5-0e7258d739ec\")>,\n",
       " <selenium.webdriver.remote.webelement.WebElement (session=\"1838789e9c834dd25c8bc549dd1eae44\", element=\"f7b25b8e-8922-4b5e-8b4b-89110c171d90\")>,\n",
       " <selenium.webdriver.remote.webelement.WebElement (session=\"1838789e9c834dd25c8bc549dd1eae44\", element=\"1633968c-ca8f-4c1e-a3a8-9bcdbcf96a76\")>,\n",
       " <selenium.webdriver.remote.webelement.WebElement (session=\"1838789e9c834dd25c8bc549dd1eae44\", element=\"933c9cc9-282e-48ac-9fa3-3effad610543\")>,\n",
       " <selenium.webdriver.remote.webelement.WebElement (session=\"1838789e9c834dd25c8bc549dd1eae44\", element=\"c05026f8-8051-4c19-b12a-75f3a13ab4b3\")>,\n",
       " <selenium.webdriver.remote.webelement.WebElement (session=\"1838789e9c834dd25c8bc549dd1eae44\", element=\"97e05e08-d460-4402-b4be-60949da327cf\")>,\n",
       " <selenium.webdriver.remote.webelement.WebElement (session=\"1838789e9c834dd25c8bc549dd1eae44\", element=\"c4a135ce-14b7-44ec-ac9d-073cf2400340\")>,\n",
       " <selenium.webdriver.remote.webelement.WebElement (session=\"1838789e9c834dd25c8bc549dd1eae44\", element=\"33f1fcc0-7cd1-4ccc-8fbf-8202ea7be408\")>,\n",
       " <selenium.webdriver.remote.webelement.WebElement (session=\"1838789e9c834dd25c8bc549dd1eae44\", element=\"5ea7fad9-775e-4413-ab7a-4d7cef3e8615\")>,\n",
       " <selenium.webdriver.remote.webelement.WebElement (session=\"1838789e9c834dd25c8bc549dd1eae44\", element=\"dae5fe63-02ae-42c6-b530-806522c5c4be\")>,\n",
       " <selenium.webdriver.remote.webelement.WebElement (session=\"1838789e9c834dd25c8bc549dd1eae44\", element=\"e870d452-6baf-42b6-be39-cd3e5326f3ab\")>,\n",
       " <selenium.webdriver.remote.webelement.WebElement (session=\"1838789e9c834dd25c8bc549dd1eae44\", element=\"5e99115a-8a05-4ab0-a50d-aadc5fb236e6\")>,\n",
       " <selenium.webdriver.remote.webelement.WebElement (session=\"1838789e9c834dd25c8bc549dd1eae44\", element=\"05124550-69a2-48b0-b0e5-ba8f35d42a64\")>,\n",
       " <selenium.webdriver.remote.webelement.WebElement (session=\"1838789e9c834dd25c8bc549dd1eae44\", element=\"c195effa-391c-4475-9e7e-422bb5d22b62\")>,\n",
       " <selenium.webdriver.remote.webelement.WebElement (session=\"1838789e9c834dd25c8bc549dd1eae44\", element=\"98796cbd-2cb2-46a4-8128-a57f752c5229\")>,\n",
       " <selenium.webdriver.remote.webelement.WebElement (session=\"1838789e9c834dd25c8bc549dd1eae44\", element=\"c3b35f95-10dc-47cb-ae66-f333c2185eb0\")>,\n",
       " <selenium.webdriver.remote.webelement.WebElement (session=\"1838789e9c834dd25c8bc549dd1eae44\", element=\"6e94bd06-5473-4b9b-b14a-4468e2b162f3\")>,\n",
       " <selenium.webdriver.remote.webelement.WebElement (session=\"1838789e9c834dd25c8bc549dd1eae44\", element=\"004fc03a-6ca1-4fd6-90af-39d4c86ee678\")>,\n",
       " <selenium.webdriver.remote.webelement.WebElement (session=\"1838789e9c834dd25c8bc549dd1eae44\", element=\"c5bde875-b1db-460d-8fb9-a9c046383fb7\")>,\n",
       " <selenium.webdriver.remote.webelement.WebElement (session=\"1838789e9c834dd25c8bc549dd1eae44\", element=\"97a050dd-e5a1-4ade-965d-1f77ea328e47\")>,\n",
       " <selenium.webdriver.remote.webelement.WebElement (session=\"1838789e9c834dd25c8bc549dd1eae44\", element=\"9a8a53a3-fb79-4e51-8c16-2c03f6ab42c5\")>,\n",
       " <selenium.webdriver.remote.webelement.WebElement (session=\"1838789e9c834dd25c8bc549dd1eae44\", element=\"7ad71d3e-078c-423c-8100-b2f95b8639e3\")>,\n",
       " <selenium.webdriver.remote.webelement.WebElement (session=\"1838789e9c834dd25c8bc549dd1eae44\", element=\"bc11c394-e2ac-4bb7-b8f8-72abb23e71ba\")>,\n",
       " <selenium.webdriver.remote.webelement.WebElement (session=\"1838789e9c834dd25c8bc549dd1eae44\", element=\"9218975f-3283-49f7-bdc2-247421fdb14e\")>,\n",
       " <selenium.webdriver.remote.webelement.WebElement (session=\"1838789e9c834dd25c8bc549dd1eae44\", element=\"b25385f3-cca1-4d56-8652-e0efc94a7cab\")>,\n",
       " <selenium.webdriver.remote.webelement.WebElement (session=\"1838789e9c834dd25c8bc549dd1eae44\", element=\"8b1962f4-3b80-4c13-9d66-356adb1f519b\")>,\n",
       " <selenium.webdriver.remote.webelement.WebElement (session=\"1838789e9c834dd25c8bc549dd1eae44\", element=\"11f14140-f091-4df0-b583-bd2f6d820dd5\")>,\n",
       " <selenium.webdriver.remote.webelement.WebElement (session=\"1838789e9c834dd25c8bc549dd1eae44\", element=\"39ebdc14-1ba1-4426-9be4-6c22c2628fe8\")>,\n",
       " <selenium.webdriver.remote.webelement.WebElement (session=\"1838789e9c834dd25c8bc549dd1eae44\", element=\"12254740-603d-43e0-bf13-09a0ce350c98\")>,\n",
       " <selenium.webdriver.remote.webelement.WebElement (session=\"1838789e9c834dd25c8bc549dd1eae44\", element=\"77e5ec99-72a3-4840-b686-ff2c123bdfce\")>,\n",
       " <selenium.webdriver.remote.webelement.WebElement (session=\"1838789e9c834dd25c8bc549dd1eae44\", element=\"4459036b-34b3-4b1a-a24b-5b60a1769de6\")>,\n",
       " <selenium.webdriver.remote.webelement.WebElement (session=\"1838789e9c834dd25c8bc549dd1eae44\", element=\"d97d2789-39ce-4af5-a178-1faa514a8524\")>,\n",
       " <selenium.webdriver.remote.webelement.WebElement (session=\"1838789e9c834dd25c8bc549dd1eae44\", element=\"61991c7e-0b1d-4838-8528-744d5e2e4b70\")>,\n",
       " <selenium.webdriver.remote.webelement.WebElement (session=\"1838789e9c834dd25c8bc549dd1eae44\", element=\"f6c85425-499d-4110-b35e-affd8cfe796f\")>,\n",
       " <selenium.webdriver.remote.webelement.WebElement (session=\"1838789e9c834dd25c8bc549dd1eae44\", element=\"77a7e1ed-ef46-4f8f-8ddd-a23b2dd2dcbe\")>,\n",
       " <selenium.webdriver.remote.webelement.WebElement (session=\"1838789e9c834dd25c8bc549dd1eae44\", element=\"27dd73c0-314f-4a5b-b6d7-3dcd163da841\")>,\n",
       " <selenium.webdriver.remote.webelement.WebElement (session=\"1838789e9c834dd25c8bc549dd1eae44\", element=\"f7b2c694-9bd5-4638-9d98-bfae842fccd7\")>,\n",
       " <selenium.webdriver.remote.webelement.WebElement (session=\"1838789e9c834dd25c8bc549dd1eae44\", element=\"7328c129-9107-4b13-9a4c-c72e91f78820\")>,\n",
       " <selenium.webdriver.remote.webelement.WebElement (session=\"1838789e9c834dd25c8bc549dd1eae44\", element=\"e5078164-87f2-4dca-b267-bcedc5e03ef7\")>,\n",
       " <selenium.webdriver.remote.webelement.WebElement (session=\"1838789e9c834dd25c8bc549dd1eae44\", element=\"fb6ccc8f-0c5b-4ff7-9ad6-5fd05e4dee90\")>,\n",
       " <selenium.webdriver.remote.webelement.WebElement (session=\"1838789e9c834dd25c8bc549dd1eae44\", element=\"e1957d81-07be-49c4-9ace-421a75d0f88a\")>,\n",
       " <selenium.webdriver.remote.webelement.WebElement (session=\"1838789e9c834dd25c8bc549dd1eae44\", element=\"5917bda0-4fda-402d-8f09-3b017b7d9a64\")>,\n",
       " <selenium.webdriver.remote.webelement.WebElement (session=\"1838789e9c834dd25c8bc549dd1eae44\", element=\"2a3abe29-1643-4865-894d-de1de7221980\")>,\n",
       " <selenium.webdriver.remote.webelement.WebElement (session=\"1838789e9c834dd25c8bc549dd1eae44\", element=\"3e2c9d6b-40f2-4d85-a759-c95e7a6931cd\")>,\n",
       " <selenium.webdriver.remote.webelement.WebElement (session=\"1838789e9c834dd25c8bc549dd1eae44\", element=\"8024d67d-74db-4b4b-843c-7ccc4cb90f6c\")>,\n",
       " <selenium.webdriver.remote.webelement.WebElement (session=\"1838789e9c834dd25c8bc549dd1eae44\", element=\"3854a45a-7f06-44bf-b5c6-35ef659efe4e\")>,\n",
       " <selenium.webdriver.remote.webelement.WebElement (session=\"1838789e9c834dd25c8bc549dd1eae44\", element=\"9ff1d653-750e-4064-b37a-b3ccaef7c7c3\")>,\n",
       " <selenium.webdriver.remote.webelement.WebElement (session=\"1838789e9c834dd25c8bc549dd1eae44\", element=\"8a85a363-e184-4ef5-9166-11778a5c66db\")>,\n",
       " <selenium.webdriver.remote.webelement.WebElement (session=\"1838789e9c834dd25c8bc549dd1eae44\", element=\"ca88cc43-3cb8-4cae-8ae7-0702d0a3b443\")>,\n",
       " <selenium.webdriver.remote.webelement.WebElement (session=\"1838789e9c834dd25c8bc549dd1eae44\", element=\"f06789d4-7a56-4be9-bae9-2fb63b46912e\")>,\n",
       " <selenium.webdriver.remote.webelement.WebElement (session=\"1838789e9c834dd25c8bc549dd1eae44\", element=\"78e6d98c-bdc4-4ab4-b153-fd40f15e02b5\")>,\n",
       " <selenium.webdriver.remote.webelement.WebElement (session=\"1838789e9c834dd25c8bc549dd1eae44\", element=\"28bff401-2a05-4996-92b8-2d750189d53b\")>,\n",
       " <selenium.webdriver.remote.webelement.WebElement (session=\"1838789e9c834dd25c8bc549dd1eae44\", element=\"ed2549ef-7913-44e7-9158-dbbe010dba84\")>,\n",
       " <selenium.webdriver.remote.webelement.WebElement (session=\"1838789e9c834dd25c8bc549dd1eae44\", element=\"340e669f-60c9-49a6-81d3-705cc84dc7ba\")>,\n",
       " <selenium.webdriver.remote.webelement.WebElement (session=\"1838789e9c834dd25c8bc549dd1eae44\", element=\"678b535c-eb70-4cb3-b643-1c9c95e6ee9e\")>,\n",
       " <selenium.webdriver.remote.webelement.WebElement (session=\"1838789e9c834dd25c8bc549dd1eae44\", element=\"9b0d49e7-8ca1-4a62-9e3d-d220d5bcb5ae\")>,\n",
       " <selenium.webdriver.remote.webelement.WebElement (session=\"1838789e9c834dd25c8bc549dd1eae44\", element=\"bac4ec3b-8ee5-460f-8dfa-709225614809\")>,\n",
       " <selenium.webdriver.remote.webelement.WebElement (session=\"1838789e9c834dd25c8bc549dd1eae44\", element=\"f010e143-0192-4b17-9191-21d7f66b6727\")>,\n",
       " <selenium.webdriver.remote.webelement.WebElement (session=\"1838789e9c834dd25c8bc549dd1eae44\", element=\"edb0073b-f942-4c96-9440-32daa05b1b6a\")>,\n",
       " <selenium.webdriver.remote.webelement.WebElement (session=\"1838789e9c834dd25c8bc549dd1eae44\", element=\"886ee01e-fe6b-482c-9251-4028126f1bd9\")>,\n",
       " <selenium.webdriver.remote.webelement.WebElement (session=\"1838789e9c834dd25c8bc549dd1eae44\", element=\"09254d7b-6400-402b-9324-e3208a80923a\")>,\n",
       " <selenium.webdriver.remote.webelement.WebElement (session=\"1838789e9c834dd25c8bc549dd1eae44\", element=\"19417af4-b1d3-4ca6-9153-d681393e7e76\")>,\n",
       " <selenium.webdriver.remote.webelement.WebElement (session=\"1838789e9c834dd25c8bc549dd1eae44\", element=\"d3fe64f0-bacb-4541-874f-9bcffc1eafaf\")>,\n",
       " <selenium.webdriver.remote.webelement.WebElement (session=\"1838789e9c834dd25c8bc549dd1eae44\", element=\"3d0be31d-2f37-498e-b545-76e37223e003\")>,\n",
       " <selenium.webdriver.remote.webelement.WebElement (session=\"1838789e9c834dd25c8bc549dd1eae44\", element=\"0c8a2d8f-454b-4976-91a1-1f05faf3e9ef\")>,\n",
       " <selenium.webdriver.remote.webelement.WebElement (session=\"1838789e9c834dd25c8bc549dd1eae44\", element=\"cde42052-b7da-4856-a876-0aa408f0e569\")>,\n",
       " <selenium.webdriver.remote.webelement.WebElement (session=\"1838789e9c834dd25c8bc549dd1eae44\", element=\"9cc7277a-4324-4175-8cc1-987d9a0cfa65\")>,\n",
       " <selenium.webdriver.remote.webelement.WebElement (session=\"1838789e9c834dd25c8bc549dd1eae44\", element=\"26544014-9df4-487a-9054-22c51ec8739a\")>,\n",
       " <selenium.webdriver.remote.webelement.WebElement (session=\"1838789e9c834dd25c8bc549dd1eae44\", element=\"97af6d9c-af3b-47a8-b779-d1fdd5b563e0\")>,\n",
       " <selenium.webdriver.remote.webelement.WebElement (session=\"1838789e9c834dd25c8bc549dd1eae44\", element=\"80d4c3ae-d7c7-4c17-8dc5-5c7389506f2c\")>,\n",
       " <selenium.webdriver.remote.webelement.WebElement (session=\"1838789e9c834dd25c8bc549dd1eae44\", element=\"d1071dcb-6241-4ab4-b503-81fb22ed0f64\")>,\n",
       " <selenium.webdriver.remote.webelement.WebElement (session=\"1838789e9c834dd25c8bc549dd1eae44\", element=\"dcdf2fe2-7923-4e00-8d76-81248517bec8\")>,\n",
       " <selenium.webdriver.remote.webelement.WebElement (session=\"1838789e9c834dd25c8bc549dd1eae44\", element=\"a086e2e0-ac4d-4336-b3ee-128424ab662f\")>,\n",
       " <selenium.webdriver.remote.webelement.WebElement (session=\"1838789e9c834dd25c8bc549dd1eae44\", element=\"270a7925-368e-4b9a-a51d-2ab3c1d0991f\")>,\n",
       " <selenium.webdriver.remote.webelement.WebElement (session=\"1838789e9c834dd25c8bc549dd1eae44\", element=\"e3faac55-077f-49fb-9755-9490dc0f2bb1\")>,\n",
       " <selenium.webdriver.remote.webelement.WebElement (session=\"1838789e9c834dd25c8bc549dd1eae44\", element=\"8c487f30-641b-430c-ad68-27df31b0ba48\")>,\n",
       " <selenium.webdriver.remote.webelement.WebElement (session=\"1838789e9c834dd25c8bc549dd1eae44\", element=\"a3b5acbd-fd19-47e2-87c1-925047848074\")>,\n",
       " <selenium.webdriver.remote.webelement.WebElement (session=\"1838789e9c834dd25c8bc549dd1eae44\", element=\"f3ad8948-e390-4805-8ce7-957166e71fa8\")>,\n",
       " <selenium.webdriver.remote.webelement.WebElement (session=\"1838789e9c834dd25c8bc549dd1eae44\", element=\"a247173d-e28a-4a1d-89db-f2d4e92880e4\")>,\n",
       " <selenium.webdriver.remote.webelement.WebElement (session=\"1838789e9c834dd25c8bc549dd1eae44\", element=\"39965ad1-c038-4d41-88d9-f7757ea25302\")>,\n",
       " <selenium.webdriver.remote.webelement.WebElement (session=\"1838789e9c834dd25c8bc549dd1eae44\", element=\"b35b77e8-fbb1-4af7-bcb0-5bdf033fda66\")>,\n",
       " <selenium.webdriver.remote.webelement.WebElement (session=\"1838789e9c834dd25c8bc549dd1eae44\", element=\"ad76584d-ab42-41a3-9d44-bd3acf24da0d\")>,\n",
       " <selenium.webdriver.remote.webelement.WebElement (session=\"1838789e9c834dd25c8bc549dd1eae44\", element=\"afe60c82-13ce-4652-a39a-c0ee937d0d53\")>,\n",
       " <selenium.webdriver.remote.webelement.WebElement (session=\"1838789e9c834dd25c8bc549dd1eae44\", element=\"c0b9754f-7c58-4174-8748-9b52524f723e\")>,\n",
       " <selenium.webdriver.remote.webelement.WebElement (session=\"1838789e9c834dd25c8bc549dd1eae44\", element=\"5efd256a-dce4-4a4b-bc60-c5c6b066a485\")>,\n",
       " <selenium.webdriver.remote.webelement.WebElement (session=\"1838789e9c834dd25c8bc549dd1eae44\", element=\"ae71e3e8-96b5-4184-ab3b-55d5184fce3b\")>,\n",
       " <selenium.webdriver.remote.webelement.WebElement (session=\"1838789e9c834dd25c8bc549dd1eae44\", element=\"e727193c-0958-495d-a797-df44e92ba379\")>,\n",
       " <selenium.webdriver.remote.webelement.WebElement (session=\"1838789e9c834dd25c8bc549dd1eae44\", element=\"8e18cc0b-072a-4060-8914-f39adcffab87\")>,\n",
       " <selenium.webdriver.remote.webelement.WebElement (session=\"1838789e9c834dd25c8bc549dd1eae44\", element=\"c3816b16-bd36-4191-85fc-8730af72d9f2\")>,\n",
       " <selenium.webdriver.remote.webelement.WebElement (session=\"1838789e9c834dd25c8bc549dd1eae44\", element=\"4f46b29b-7c3b-4d70-856f-c519e074e9f2\")>,\n",
       " <selenium.webdriver.remote.webelement.WebElement (session=\"1838789e9c834dd25c8bc549dd1eae44\", element=\"11e33881-beaa-452a-bea4-3358fb28908a\")>,\n",
       " <selenium.webdriver.remote.webelement.WebElement (session=\"1838789e9c834dd25c8bc549dd1eae44\", element=\"3c5bde86-ca3b-4a51-9045-cd66a571d8ad\")>,\n",
       " <selenium.webdriver.remote.webelement.WebElement (session=\"1838789e9c834dd25c8bc549dd1eae44\", element=\"24d499dc-02e9-41fa-bc6a-493c8de5963c\")>,\n",
       " <selenium.webdriver.remote.webelement.WebElement (session=\"1838789e9c834dd25c8bc549dd1eae44\", element=\"e86f87e4-a7b0-46b8-8289-40625255be28\")>,\n",
       " <selenium.webdriver.remote.webelement.WebElement (session=\"1838789e9c834dd25c8bc549dd1eae44\", element=\"327ba773-be32-49a2-a801-16ed52e3c1df\")>,\n",
       " <selenium.webdriver.remote.webelement.WebElement (session=\"1838789e9c834dd25c8bc549dd1eae44\", element=\"10a2d47c-ee34-4fc3-b8c7-46472bc9bff8\")>,\n",
       " <selenium.webdriver.remote.webelement.WebElement (session=\"1838789e9c834dd25c8bc549dd1eae44\", element=\"01d0c22e-9f89-444b-9ee6-ea595a39530c\")>,\n",
       " <selenium.webdriver.remote.webelement.WebElement (session=\"1838789e9c834dd25c8bc549dd1eae44\", element=\"02b6d435-72a5-4f78-8ae1-5cb1ae000f17\")>,\n",
       " <selenium.webdriver.remote.webelement.WebElement (session=\"1838789e9c834dd25c8bc549dd1eae44\", element=\"c87f2465-7c9f-423c-9cf8-3155bffd38a9\")>,\n",
       " <selenium.webdriver.remote.webelement.WebElement (session=\"1838789e9c834dd25c8bc549dd1eae44\", element=\"35a013ab-2786-4d12-a779-1b225cb63196\")>,\n",
       " <selenium.webdriver.remote.webelement.WebElement (session=\"1838789e9c834dd25c8bc549dd1eae44\", element=\"4d6e7a90-1e1d-4f40-b3fd-50f4268260fe\")>,\n",
       " <selenium.webdriver.remote.webelement.WebElement (session=\"1838789e9c834dd25c8bc549dd1eae44\", element=\"9b2fb960-8516-4cc4-a24e-4bfb19faf5ab\")>,\n",
       " <selenium.webdriver.remote.webelement.WebElement (session=\"1838789e9c834dd25c8bc549dd1eae44\", element=\"e5eedb35-37da-400c-882c-3723ec749abb\")>,\n",
       " <selenium.webdriver.remote.webelement.WebElement (session=\"1838789e9c834dd25c8bc549dd1eae44\", element=\"170a75dc-1855-4a3d-9591-c8a5665ff20d\")>,\n",
       " <selenium.webdriver.remote.webelement.WebElement (session=\"1838789e9c834dd25c8bc549dd1eae44\", element=\"25fc0fa4-3cfb-435e-8b29-616ecac1d632\")>,\n",
       " <selenium.webdriver.remote.webelement.WebElement (session=\"1838789e9c834dd25c8bc549dd1eae44\", element=\"0909d4ef-7220-4f3d-89bb-9d9530d5af1c\")>,\n",
       " <selenium.webdriver.remote.webelement.WebElement (session=\"1838789e9c834dd25c8bc549dd1eae44\", element=\"e7c89f1b-5e1d-44df-8f11-271084d2a06a\")>,\n",
       " <selenium.webdriver.remote.webelement.WebElement (session=\"1838789e9c834dd25c8bc549dd1eae44\", element=\"94676104-1fc5-43fa-9824-d8d64f4ea541\")>,\n",
       " <selenium.webdriver.remote.webelement.WebElement (session=\"1838789e9c834dd25c8bc549dd1eae44\", element=\"b674e316-0858-436d-b2c4-aabfb5039410\")>,\n",
       " <selenium.webdriver.remote.webelement.WebElement (session=\"1838789e9c834dd25c8bc549dd1eae44\", element=\"69f350b5-e08e-44e1-aae1-3853fcaa138b\")>,\n",
       " <selenium.webdriver.remote.webelement.WebElement (session=\"1838789e9c834dd25c8bc549dd1eae44\", element=\"371f9123-5d8a-46f9-b4e5-c03ac3366272\")>,\n",
       " <selenium.webdriver.remote.webelement.WebElement (session=\"1838789e9c834dd25c8bc549dd1eae44\", element=\"32f90bfa-812b-4de7-999b-a15f4b3aa82a\")>,\n",
       " <selenium.webdriver.remote.webelement.WebElement (session=\"1838789e9c834dd25c8bc549dd1eae44\", element=\"60d7a24b-c455-4112-92ca-3fc07cff59fc\")>,\n",
       " <selenium.webdriver.remote.webelement.WebElement (session=\"1838789e9c834dd25c8bc549dd1eae44\", element=\"e3e5261d-0c83-4cbf-9333-1c4bf58dc0a6\")>,\n",
       " <selenium.webdriver.remote.webelement.WebElement (session=\"1838789e9c834dd25c8bc549dd1eae44\", element=\"2d24c7db-e5b9-42a9-b2cb-4c4c307350e6\")>,\n",
       " <selenium.webdriver.remote.webelement.WebElement (session=\"1838789e9c834dd25c8bc549dd1eae44\", element=\"f5999fe4-e885-490b-a004-691ca29c22e7\")>,\n",
       " <selenium.webdriver.remote.webelement.WebElement (session=\"1838789e9c834dd25c8bc549dd1eae44\", element=\"0d77cede-4d86-49d2-b086-f7972fd461f2\")>,\n",
       " <selenium.webdriver.remote.webelement.WebElement (session=\"1838789e9c834dd25c8bc549dd1eae44\", element=\"31c89085-a105-4a7b-a153-1f689b5ad49a\")>,\n",
       " <selenium.webdriver.remote.webelement.WebElement (session=\"1838789e9c834dd25c8bc549dd1eae44\", element=\"f20fcea2-5135-45b1-be21-9ad1a996fd47\")>,\n",
       " <selenium.webdriver.remote.webelement.WebElement (session=\"1838789e9c834dd25c8bc549dd1eae44\", element=\"a5c67ad9-13df-4b38-ac36-0ff80c96122c\")>,\n",
       " <selenium.webdriver.remote.webelement.WebElement (session=\"1838789e9c834dd25c8bc549dd1eae44\", element=\"a098eb15-aee9-4ff1-ad16-84dab9d80134\")>,\n",
       " <selenium.webdriver.remote.webelement.WebElement (session=\"1838789e9c834dd25c8bc549dd1eae44\", element=\"7f5b7b38-86ed-4dcd-917e-99e58a5ceeb2\")>,\n",
       " <selenium.webdriver.remote.webelement.WebElement (session=\"1838789e9c834dd25c8bc549dd1eae44\", element=\"f27c3a69-be6e-442e-9f64-b6799992e380\")>,\n",
       " <selenium.webdriver.remote.webelement.WebElement (session=\"1838789e9c834dd25c8bc549dd1eae44\", element=\"b7b23baf-aed4-4a33-88e3-fb550a1c9da5\")>,\n",
       " <selenium.webdriver.remote.webelement.WebElement (session=\"1838789e9c834dd25c8bc549dd1eae44\", element=\"30bf5cb1-dfe0-4555-8d87-9c2bc6edf304\")>,\n",
       " <selenium.webdriver.remote.webelement.WebElement (session=\"1838789e9c834dd25c8bc549dd1eae44\", element=\"3855184b-0afc-4dfe-ad03-fa219b7dfcb4\")>,\n",
       " <selenium.webdriver.remote.webelement.WebElement (session=\"1838789e9c834dd25c8bc549dd1eae44\", element=\"6e0ee9ac-e4df-46b8-8df2-cab63340aaff\")>,\n",
       " <selenium.webdriver.remote.webelement.WebElement (session=\"1838789e9c834dd25c8bc549dd1eae44\", element=\"376d5ae3-729f-46c0-81ec-50498ae430a7\")>,\n",
       " <selenium.webdriver.remote.webelement.WebElement (session=\"1838789e9c834dd25c8bc549dd1eae44\", element=\"5244d4a9-9119-4932-a15b-4933df913786\")>,\n",
       " <selenium.webdriver.remote.webelement.WebElement (session=\"1838789e9c834dd25c8bc549dd1eae44\", element=\"55f8f2c0-5fb6-4a4f-98c3-9e2c6892bbd2\")>,\n",
       " <selenium.webdriver.remote.webelement.WebElement (session=\"1838789e9c834dd25c8bc549dd1eae44\", element=\"023f252d-d08e-4391-af04-8a8e13366a83\")>,\n",
       " <selenium.webdriver.remote.webelement.WebElement (session=\"1838789e9c834dd25c8bc549dd1eae44\", element=\"5ff2c58e-1c33-47f4-8bf5-e586ce686f1b\")>,\n",
       " <selenium.webdriver.remote.webelement.WebElement (session=\"1838789e9c834dd25c8bc549dd1eae44\", element=\"da31b127-1700-4954-b762-a75242d4eccb\")>,\n",
       " <selenium.webdriver.remote.webelement.WebElement (session=\"1838789e9c834dd25c8bc549dd1eae44\", element=\"73154d77-d8dc-4167-8e73-6d3ccb45201d\")>,\n",
       " <selenium.webdriver.remote.webelement.WebElement (session=\"1838789e9c834dd25c8bc549dd1eae44\", element=\"31ae0d3c-f4b3-4ddf-a69f-429f8d94829b\")>,\n",
       " <selenium.webdriver.remote.webelement.WebElement (session=\"1838789e9c834dd25c8bc549dd1eae44\", element=\"eabd325c-3c7c-4585-ba7e-c5c3d45defd8\")>,\n",
       " <selenium.webdriver.remote.webelement.WebElement (session=\"1838789e9c834dd25c8bc549dd1eae44\", element=\"99dc6179-d1c4-4605-a5f3-a7e888c4eacf\")>,\n",
       " <selenium.webdriver.remote.webelement.WebElement (session=\"1838789e9c834dd25c8bc549dd1eae44\", element=\"0a940b44-35c8-42c4-b5c7-c38cfdd339fc\")>,\n",
       " <selenium.webdriver.remote.webelement.WebElement (session=\"1838789e9c834dd25c8bc549dd1eae44\", element=\"6626f749-787f-4f2b-b2ae-7069659b592d\")>,\n",
       " <selenium.webdriver.remote.webelement.WebElement (session=\"1838789e9c834dd25c8bc549dd1eae44\", element=\"25f5574e-e494-4bf9-8baa-6b9124a9e409\")>,\n",
       " <selenium.webdriver.remote.webelement.WebElement (session=\"1838789e9c834dd25c8bc549dd1eae44\", element=\"d2016846-76f8-4e70-afd4-034f0dc22cb9\")>,\n",
       " <selenium.webdriver.remote.webelement.WebElement (session=\"1838789e9c834dd25c8bc549dd1eae44\", element=\"288da649-35ef-4e3d-8ea0-4effbc08fee4\")>,\n",
       " <selenium.webdriver.remote.webelement.WebElement (session=\"1838789e9c834dd25c8bc549dd1eae44\", element=\"9dc513aa-f9c8-4f6b-94a7-b1a83fa424f8\")>,\n",
       " <selenium.webdriver.remote.webelement.WebElement (session=\"1838789e9c834dd25c8bc549dd1eae44\", element=\"5bad56cd-5ffe-4d4f-9882-c68ac7c73033\")>,\n",
       " <selenium.webdriver.remote.webelement.WebElement (session=\"1838789e9c834dd25c8bc549dd1eae44\", element=\"368d38ed-6651-4692-80c3-d7a1b0d8edec\")>,\n",
       " <selenium.webdriver.remote.webelement.WebElement (session=\"1838789e9c834dd25c8bc549dd1eae44\", element=\"e17fcd83-a5e1-4395-a043-45666e9316d4\")>,\n",
       " <selenium.webdriver.remote.webelement.WebElement (session=\"1838789e9c834dd25c8bc549dd1eae44\", element=\"748d17b0-32cc-40d6-b5f5-eec4f3e029a5\")>]"
      ]
     },
     "execution_count": 39,
     "metadata": {},
     "output_type": "execute_result"
    }
   ],
   "source": [
    "character_elems = driver.find_elements(by=By.CLASS_NAME, value = 'category-page__member-link')\n",
    "character_elems"
   ]
  },
  {
   "cell_type": "markdown",
   "metadata": {},
   "source": [
    "# Full Code"
   ]
  },
  {
   "cell_type": "code",
   "execution_count": 53,
   "metadata": {},
   "outputs": [
    {
     "name": "stdout",
     "output_type": "stream",
     "text": [
      "Setting options...\n",
      "Options set!\n",
      "Preparing service...\n",
      "Service ready!\n",
      "Creating driver...\n",
      "Driver created!\n",
      "Getting page with characters...\n",
      "Page retrieved!\n",
      "Building list of books...\n",
      "Books list complete!\n",
      "Building character list...\n",
      "Character list complete!\n"
     ]
    }
   ],
   "source": [
    "import pandas as pd\n",
    "import time\n",
    "from selenium import webdriver\n",
    "from webdriver_manager.chrome import ChromeDriverManager\n",
    "from selenium.webdriver.common.by import By\n",
    "from selenium.webdriver.chrome.service import Service\n",
    "from selenium.webdriver.chrome.options import Options\n",
    "\n",
    "\n",
    "## Setup chrome options\n",
    "print(\"Setting options...\")\n",
    "chrome_options = Options()\n",
    "chrome_options.add_argument(\"--headless\") # Ensure GUI is off\n",
    "chrome_options.add_argument(\"--no-sandbox\")\n",
    "print(\"Options set!\")\n",
    "\n",
    "# Set path to chromedriver as per your configuration\n",
    "print(\"Preparing service...\")\n",
    "webdriver_service = Service(\"./chromedriver/stable/chromedriver\")\n",
    "print(\"Service ready!\")\n",
    "\n",
    "# Choose Chrome Browser\n",
    "print(\"Creating driver...\")\n",
    "driver = webdriver.Chrome(service=webdriver_service, options=chrome_options)\n",
    "print(\"Driver created!\")\n",
    "\n",
    "# Get page\n",
    "print(\"Getting page with characters...\")\n",
    "page_url = \"https://witcher.fandom.com/wiki/Category:Characters_in_the_stories\"\n",
    "driver.get(page_url)\n",
    "print(\"Page retrieved!\")\n",
    "\n",
    "\n",
    "# # Create driver\n",
    "# print(\"Creating driver...\")\n",
    "# driver = webdriver.Chrome(ChromeDriverManager().install())\n",
    "# print(\"Driver created!\")\n",
    "\n",
    "# # Go to the chracters in books page\n",
    "# print(\"Getting page with characters...\")\n",
    "# page_url = \"https://witcher.fandom.com/wiki/Category:Characters_in_the_stories\"\n",
    "# driver.get(page_url)\n",
    "# print(\"Page retrieved!\")\n",
    "\n",
    "# # Accept the cookies\n",
    "# print(\"Accepting cookies...\")\n",
    "# time.sleep(3)\n",
    "# driver.find_element(By.XPATH, '//div[text()=\"ACCEPT\"]').click()\n",
    "# print(\"Cookies accepted!\")\n",
    "\n",
    "# Find books\n",
    "print('Building list of books...')\n",
    "book_categories = driver.find_elements(by=By.CLASS_NAME, value='category-page__member-link')\n",
    "\n",
    "books = []\n",
    "for category in book_categories:\n",
    "    book_url = category.get_attribute('href')\n",
    "    book_name = category.text\n",
    "    books.append({'book_name': book_name, 'url': book_url})\n",
    "print('Books list complete!')\n",
    "\n",
    "# Build character list\n",
    "print('Building character list...')\n",
    "character_list = []\n",
    "for book in books:\n",
    "    # go to book page\n",
    "    driver.get(book['url'])\n",
    "\n",
    "    # find links to characters by using class name\n",
    "    character_elems = driver.find_elements(by=By.CLASS_NAME, value = 'category-page__member-link')\n",
    "\n",
    "    for elem in character_elems:\n",
    "        character_list.append({'book': book['book_name'], 'character': elem.text})\n",
    "print('Character list complete!')\n"
   ]
  },
  {
   "cell_type": "code",
   "execution_count": 56,
   "metadata": {},
   "outputs": [],
   "source": [
    "# Convert chararcter list to Pandas dataframe for conversion to CSV and use in R\n",
    "character_df = pd.DataFrame(character_list)\n",
    "character_df.to_csv('characters.csv', index=False)"
   ]
  }
 ],
 "metadata": {
  "interpreter": {
   "hash": "745b1ba3a5be39b747cecfeef8d176e481d08c9654f4958e14222d069523fb87"
  },
  "kernelspec": {
   "display_name": "ThuVuWalkthru",
   "language": "python",
   "name": "thuvuwalkthru"
  },
  "language_info": {
   "codemirror_mode": {
    "name": "ipython",
    "version": 3
   },
   "file_extension": ".py",
   "mimetype": "text/x-python",
   "name": "python",
   "nbconvert_exporter": "python",
   "pygments_lexer": "ipython3",
   "version": "3.9.2"
  },
  "orig_nbformat": 4
 },
 "nbformat": 4,
 "nbformat_minor": 2
}
